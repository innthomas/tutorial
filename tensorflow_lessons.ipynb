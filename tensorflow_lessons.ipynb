{
  "nbformat": 4,
  "nbformat_minor": 0,
  "metadata": {
    "colab": {
      "name": "tensorflow_lessons.ipynb",
      "provenance": [],
      "private_outputs": true,
      "include_colab_link": true
    },
    "kernelspec": {
      "name": "python3",
      "display_name": "Python 3"
    },
    "accelerator": "GPU"
  },
  "cells": [
    {
      "cell_type": "markdown",
      "metadata": {
        "id": "view-in-github",
        "colab_type": "text"
      },
      "source": [
        "<a href=\"https://colab.research.google.com/github/innthomas/tutorial/blob/master/tensorflow_lessons.ipynb\" target=\"_parent\"><img src=\"https://colab.research.google.com/assets/colab-badge.svg\" alt=\"Open In Colab\"/></a>"
      ]
    },
    {
      "cell_type": "code",
      "metadata": {
        "id": "y-W1W0Fv5haU",
        "colab_type": "code",
        "colab": {}
      },
      "source": [
        "import pandas as pd"
      ],
      "execution_count": 0,
      "outputs": []
    },
    {
      "cell_type": "code",
      "metadata": {
        "id": "gmayQzms2z7V",
        "colab_type": "code",
        "colab": {}
      },
      "source": [
        ""
      ],
      "execution_count": 0,
      "outputs": []
    },
    {
      "cell_type": "code",
      "metadata": {
        "id": "KQoY2o6b4Rw_",
        "colab_type": "code",
        "colab": {}
      },
      "source": [
        ""
      ],
      "execution_count": 0,
      "outputs": []
    },
    {
      "cell_type": "code",
      "metadata": {
        "id": "YuoqdlEesa3T",
        "colab_type": "code",
        "colab": {}
      },
      "source": [
        "census = pd.read_csv('adult.csv')"
      ],
      "execution_count": 0,
      "outputs": []
    },
    {
      "cell_type": "code",
      "metadata": {
        "id": "rBG9gFoo6RlI",
        "colab_type": "code",
        "colab": {}
      },
      "source": [
        "census.tail()"
      ],
      "execution_count": 0,
      "outputs": []
    },
    {
      "cell_type": "code",
      "metadata": {
        "id": "q_oLcqCrs3j2",
        "colab_type": "code",
        "colab": {}
      },
      "source": [
        "census['income'].unique()"
      ],
      "execution_count": 0,
      "outputs": []
    },
    {
      "cell_type": "code",
      "metadata": {
        "id": "CjQP1UUK6Sgh",
        "colab_type": "code",
        "colab": {}
      },
      "source": [
        "def label_fix(label):\n",
        "  if label =='<=50K':\n",
        "    return 0\n",
        "\n",
        "  else:\n",
        "    return 1\n"
      ],
      "execution_count": 0,
      "outputs": []
    },
    {
      "cell_type": "code",
      "metadata": {
        "id": "wsr-5xwe5yq7",
        "colab_type": "code",
        "colab": {}
      },
      "source": [
        "census['income'] = census['income'].apply(label_fix)"
      ],
      "execution_count": 0,
      "outputs": []
    },
    {
      "cell_type": "code",
      "metadata": {
        "id": "DJiqYnZR5-hn",
        "colab_type": "code",
        "colab": {}
      },
      "source": [
        "census['income'].unique()"
      ],
      "execution_count": 0,
      "outputs": []
    },
    {
      "cell_type": "code",
      "metadata": {
        "id": "nmsgA-lH6EZP",
        "colab_type": "code",
        "colab": {}
      },
      "source": [
        "from sklearn.model_selection import train_test_split"
      ],
      "execution_count": 0,
      "outputs": []
    },
    {
      "cell_type": "code",
      "metadata": {
        "id": "r6w_nON669Ie",
        "colab_type": "code",
        "colab": {}
      },
      "source": [
        "x_data = census.drop('income',axis=1)\n",
        "y_labels = census['income']\n",
        "X_train,X_test,y_train,y_test = train_test_split(x_data, y_labels,test_size=0.3,random_state=101)"
      ],
      "execution_count": 0,
      "outputs": []
    },
    {
      "cell_type": "code",
      "metadata": {
        "id": "ol0NNsqu6KjD",
        "colab_type": "code",
        "colab": {}
      },
      "source": [
        "census.columns"
      ],
      "execution_count": 0,
      "outputs": []
    },
    {
      "cell_type": "code",
      "metadata": {
        "id": "Fawn4aCU8QJg",
        "colab_type": "code",
        "colab": {}
      },
      "source": [
        "#import tensorflow as tf"
      ],
      "execution_count": 0,
      "outputs": []
    },
    {
      "cell_type": "code",
      "metadata": {
        "id": "hSRy4LIy_1BL",
        "colab_type": "code",
        "colab": {}
      },
      "source": [
        ""
      ],
      "execution_count": 0,
      "outputs": []
    },
    {
      "cell_type": "code",
      "metadata": {
        "id": "7U0q2t1o8X5O",
        "colab_type": "code",
        "colab": {}
      },
      "source": [
        "#print(tf.__version__)"
      ],
      "execution_count": 0,
      "outputs": []
    },
    {
      "cell_type": "code",
      "metadata": {
        "id": "i_FuMQx_8-D0",
        "colab_type": "code",
        "colab": {}
      },
      "source": [
        "#!pip uninstall tensorflow"
      ],
      "execution_count": 0,
      "outputs": []
    },
    {
      "cell_type": "code",
      "metadata": {
        "id": "6tJXbxqA9Fxr",
        "colab_type": "code",
        "colab": {}
      },
      "source": [
        "#!pip install tensorflow==2.0.0"
      ],
      "execution_count": 0,
      "outputs": []
    },
    {
      "cell_type": "code",
      "metadata": {
        "id": "ZhPEDLcp9rro",
        "colab_type": "code",
        "colab": {}
      },
      "source": [
        "import tensorflow as tf\n",
        "print(tf.__version__)"
      ],
      "execution_count": 0,
      "outputs": []
    },
    {
      "cell_type": "code",
      "metadata": {
        "id": "QajURvNj_2l6",
        "colab_type": "code",
        "colab": {}
      },
      "source": [
        "gender = tf.feature_column.categorical_column_with_vocabulary_list(\"sex\",[\"Female\",\"Male\"])\n",
        "occupation = tf.feature_column.categorical_column_with_hash_bucket(\"occupation\",hash_bucket_size=1000)\n",
        "marital_status = tf.feature_column.categorical_column_with_hash_bucket(\"marital.status\",hash_bucket_size=1000)\n",
        "relationship = tf.feature_column.categorical_column_with_hash_bucket(\"relationship\",hash_bucket_size=1000)\n",
        "education = tf.feature_column.categorical_column_with_hash_bucket(\"education\",hash_bucket_size=1000)\n",
        "workclass = tf.feature_column.categorical_column_with_hash_bucket(\"workclass\",hash_bucket_size=1000)\n",
        "native_country = tf.feature_column.categorical_column_with_hash_bucket(\"native.country\",hash_bucket_size=1000)\n",
        "\n"
      ],
      "execution_count": 0,
      "outputs": []
    },
    {
      "cell_type": "code",
      "metadata": {
        "id": "UIy-QLWH_3Ih",
        "colab_type": "code",
        "colab": {}
      },
      "source": [
        "age = tf.feature_column.numeric_column(\"age\")\n",
        "education_num = tf.feature_column.numeric_column(\"education.num\")\n",
        "capital_gain = tf.feature_column.numeric_column(\"capital.gain\")\n",
        "capital_loss = tf.feature_column.numeric_column(\"capital.loss\")\n",
        "hours_per_week = tf.feature_column.numeric_column(\"hours.per.week\")\n"
      ],
      "execution_count": 0,
      "outputs": []
    },
    {
      "cell_type": "code",
      "metadata": {
        "id": "vopTuEalCqGI",
        "colab_type": "code",
        "colab": {}
      },
      "source": [
        "feat_cols=[gender,occupation,marital_status,relationship,education,workclass,native_country,age,education_num,capital_gain,capital_loss,hours_per_week]"
      ],
      "execution_count": 0,
      "outputs": []
    },
    {
      "cell_type": "code",
      "metadata": {
        "id": "umlXft8gNLP0",
        "colab_type": "code",
        "colab": {}
      },
      "source": [
        "from tensorflow_core.estimator import inputs"
      ],
      "execution_count": 0,
      "outputs": []
    },
    {
      "cell_type": "code",
      "metadata": {
        "id": "iWDHLT3L_4Ep",
        "colab_type": "code",
        "colab": {}
      },
      "source": [
        "input_func = tf.compat.v1.estimator.inputs.pandas_input_fn(x=X_train,y=y_train,batch_size=100,num_epochs=None,shuffle=True)"
      ],
      "execution_count": 0,
      "outputs": []
    },
    {
      "cell_type": "code",
      "metadata": {
        "id": "0iUzqxqdMq1U",
        "colab_type": "code",
        "colab": {}
      },
      "source": [
        "model = tf.estimator.LinearClassifier(feature_columns=feat_cols)"
      ],
      "execution_count": 0,
      "outputs": []
    },
    {
      "cell_type": "code",
      "metadata": {
        "id": "3DRDg0Kr_4A8",
        "colab_type": "code",
        "colab": {}
      },
      "source": [
        "model.train(input_fn=input_func, steps=5000)"
      ],
      "execution_count": 0,
      "outputs": []
    },
    {
      "cell_type": "code",
      "metadata": {
        "id": "U8npdM_x_37N",
        "colab_type": "code",
        "colab": {}
      },
      "source": [
        "pred_fn = tf.compat.v1.estimator.inputs.pandas_input_fn(x=X_test,batch_size=len(X_test),shuffle=False)"
      ],
      "execution_count": 0,
      "outputs": []
    },
    {
      "cell_type": "code",
      "metadata": {
        "id": "ym5D17c1_30o",
        "colab_type": "code",
        "colab": {}
      },
      "source": [
        "predictions = list(model.predict(input_fn=pred_fn))"
      ],
      "execution_count": 0,
      "outputs": []
    },
    {
      "cell_type": "code",
      "metadata": {
        "id": "L-QEzVUoQzoA",
        "colab_type": "code",
        "colab": {}
      },
      "source": [
        "predictions[0]"
      ],
      "execution_count": 0,
      "outputs": []
    },
    {
      "cell_type": "code",
      "metadata": {
        "id": "9sLVJllZRQsp",
        "colab_type": "code",
        "colab": {}
      },
      "source": [
        "final_preds = []\n",
        "for pred in predictions:\n",
        "  final_preds.append(pred[\"class_ids\"][0])"
      ],
      "execution_count": 0,
      "outputs": []
    },
    {
      "cell_type": "code",
      "metadata": {
        "id": "tH55Wds3RpbJ",
        "colab_type": "code",
        "colab": {}
      },
      "source": [
        "final_preds[:10]"
      ],
      "execution_count": 0,
      "outputs": []
    },
    {
      "cell_type": "code",
      "metadata": {
        "id": "_WqLgYVkRwi2",
        "colab_type": "code",
        "colab": {}
      },
      "source": [
        "from sklearn.metrics import classification_report"
      ],
      "execution_count": 0,
      "outputs": []
    },
    {
      "cell_type": "code",
      "metadata": {
        "id": "5yGhu33__3vV",
        "colab_type": "code",
        "colab": {}
      },
      "source": [
        "print(classification_report(y_test,final_preds))"
      ],
      "execution_count": 0,
      "outputs": []
    },
    {
      "cell_type": "code",
      "metadata": {
        "id": "kWenpMM9SKt-",
        "colab_type": "code",
        "colab": {}
      },
      "source": [
        ""
      ],
      "execution_count": 0,
      "outputs": []
    },
    {
      "cell_type": "code",
      "metadata": {
        "id": "OHxZvjjL_3pZ",
        "colab_type": "code",
        "colab": {}
      },
      "source": [
        ""
      ],
      "execution_count": 0,
      "outputs": []
    }
  ]
}